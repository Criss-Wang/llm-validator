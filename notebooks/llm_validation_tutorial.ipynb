{
 "cells": [
  {
   "cell_type": "markdown",
   "metadata": {},
   "source": [
    "## LLM Validation walkthrough\n",
    "\n",
    "Here we demonstrate a sample process of running the LLM model validation. The steps are as follows:\n",
    "1. Give task specifications\n",
    "2. Download dataset + prompt + model\n",
    "3. Data ETL to align input/output formats\n",
    "4. Define relevant components (customize if necessary)\n",
    "5. Execute the orchestration process\n",
    "6. Analyze the results"
   ]
  },
  {
   "cell_type": "code",
   "execution_count": null,
   "metadata": {},
   "outputs": [],
   "source": []
  }
 ],
 "metadata": {
  "language_info": {
   "name": "python"
  }
 },
 "nbformat": 4,
 "nbformat_minor": 2
}
